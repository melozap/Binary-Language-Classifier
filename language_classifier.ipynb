{
 "cells": [
  {
   "cell_type": "markdown",
   "metadata": {},
   "source": [
    "**Language Classifier: Is it Japanese or Chinese Mandarin**"
   ]
  },
  {
   "cell_type": "markdown",
   "metadata": {},
   "source": [
    "Import Packages"
   ]
  },
  {
   "cell_type": "code",
   "execution_count": 1,
   "metadata": {},
   "outputs": [
    {
     "name": "stderr",
     "output_type": "stream",
     "text": [
      "Using TensorFlow backend.\n"
     ]
    }
   ],
   "source": [
    "import pandas as pd\n",
    "import numpy as np\n",
    "import re\n",
    "import string\n",
    "from sklearn.utils import shuffle\n",
    "from sklearn.model_selection import train_test_split\n",
    "from sklearn.preprocessing import OneHotEncoder\n",
    "from keras.preprocessing import sequence\n",
    "from keras.models import Sequential\n",
    "from keras import layers\n",
    "from keras.optimizers import Adam\n",
    "from keras.preprocessing.text import Tokenizer\n",
    "from keras.preprocessing.sequence import pad_sequences\n",
    "from keras.layers import Dense, Embedding, Dropout\n",
    "from keras.layers import LSTM\n",
    "import matplotlib.pyplot as plt"
   ]
  },
  {
   "cell_type": "code",
   "execution_count": 2,
   "metadata": {},
   "outputs": [
    {
     "data": {
      "text/html": [
       "<div>\n",
       "<style scoped>\n",
       "    .dataframe tbody tr th:only-of-type {\n",
       "        vertical-align: middle;\n",
       "    }\n",
       "\n",
       "    .dataframe tbody tr th {\n",
       "        vertical-align: top;\n",
       "    }\n",
       "\n",
       "    .dataframe thead th {\n",
       "        text-align: right;\n",
       "    }\n",
       "</style>\n",
       "<table border=\"1\" class=\"dataframe\">\n",
       "  <thead>\n",
       "    <tr style=\"text-align: right;\">\n",
       "      <th></th>\n",
       "      <th>mandarin</th>\n",
       "      <th>japanese</th>\n",
       "    </tr>\n",
       "  </thead>\n",
       "  <tbody>\n",
       "    <tr>\n",
       "      <td>0</td>\n",
       "      <td>嗨。</td>\n",
       "      <td>行け。</td>\n",
       "    </tr>\n",
       "    <tr>\n",
       "      <td>1</td>\n",
       "      <td>你好。</td>\n",
       "      <td>行きなさい。</td>\n",
       "    </tr>\n",
       "    <tr>\n",
       "      <td>2</td>\n",
       "      <td>你用跑的。</td>\n",
       "      <td>こんにちは。</td>\n",
       "    </tr>\n",
       "    <tr>\n",
       "      <td>3</td>\n",
       "      <td>等等！</td>\n",
       "      <td>やっほー。</td>\n",
       "    </tr>\n",
       "    <tr>\n",
       "      <td>4</td>\n",
       "      <td>你好。</td>\n",
       "      <td>こんにちは！</td>\n",
       "    </tr>\n",
       "  </tbody>\n",
       "</table>\n",
       "</div>"
      ],
      "text/plain": [
       "  mandarin japanese\n",
       "0       嗨。      行け。\n",
       "1      你好。   行きなさい。\n",
       "2    你用跑的。   こんにちは。\n",
       "3      等等！    やっほー。\n",
       "4      你好。   こんにちは！"
      ]
     },
     "execution_count": 2,
     "metadata": {},
     "output_type": "execute_result"
    }
   ],
   "source": [
    "df = pd.read_csv('languages.csv', encoding='utf-8')\n",
    "df.head()"
   ]
  },
  {
   "cell_type": "markdown",
   "metadata": {},
   "source": [
    "Data Cleaning:\n",
    "\n",
    "- Check to see if there are any NaN values\n",
    "- Restructure DataFrame columns so it's easier to work with\n",
    "- Shuffle and reset index"
   ]
  },
  {
   "cell_type": "code",
   "execution_count": 3,
   "metadata": {},
   "outputs": [
    {
     "name": "stdout",
     "output_type": "stream",
     "text": [
      "<class 'pandas.core.frame.DataFrame'>\n",
      "RangeIndex: 1999 entries, 0 to 1998\n",
      "Data columns (total 2 columns):\n",
      "mandarin    1999 non-null object\n",
      "japanese    1999 non-null object\n",
      "dtypes: object(2)\n",
      "memory usage: 31.4+ KB\n"
     ]
    }
   ],
   "source": [
    "df.info()"
   ]
  },
  {
   "cell_type": "code",
   "execution_count": 4,
   "metadata": {},
   "outputs": [
    {
     "data": {
      "text/plain": [
       "mandarin    0\n",
       "japanese    0\n",
       "dtype: int64"
      ]
     },
     "execution_count": 4,
     "metadata": {},
     "output_type": "execute_result"
    }
   ],
   "source": [
    "df.isnull().sum()"
   ]
  },
  {
   "cell_type": "code",
   "execution_count": 5,
   "metadata": {},
   "outputs": [],
   "source": [
    "df2 = df.drop(['japanese'],axis=1)\n",
    "df2.columns = ['text']\n",
    "df2['label'] = 'mandarin'\n",
    "\n",
    "df3 = df.drop(['mandarin'],axis=1)\n",
    "df3.columns = ['text']\n",
    "df3['label'] = 'japanese'\n",
    "\n",
    "df = pd.concat([df2, df3])"
   ]
  },
  {
   "cell_type": "code",
   "execution_count": 6,
   "metadata": {},
   "outputs": [],
   "source": [
    "df = df.reset_index(drop=True)\n",
    "df = shuffle(df)"
   ]
  },
  {
   "cell_type": "markdown",
   "metadata": {},
   "source": [
    "Prepare Tokenizer(s):"
   ]
  },
  {
   "cell_type": "markdown",
   "metadata": {},
   "source": [
    "Sentence Piece is an unsupervised tokenizer which you can train on raw data and use to tokenize/detokenize your dataset. You can learn more here: https://github.com/google/sentencepiece"
   ]
  },
  {
   "cell_type": "code",
   "execution_count": 8,
   "metadata": {},
   "outputs": [
    {
     "data": {
      "text/plain": [
       "True"
      ]
     },
     "execution_count": 8,
     "metadata": {},
     "output_type": "execute_result"
    }
   ],
   "source": [
    "# Train Japanese Tokenizer on Japanese Sentence Data\n",
    "\n",
    "import sentencepiece as spm\n",
    "\n",
    "spm.SentencePieceTrainer.train('--input=jpn_tokenizer.txt --model_prefix=m_bpe --vocab_size=10000 --character_coverage=0.995 --model_type=bpe')\n",
    "jp = spm.SentencePieceProcessor()\n",
    "jp.load('m_bpe.model')"
   ]
  },
  {
   "cell_type": "code",
   "execution_count": 9,
   "metadata": {},
   "outputs": [
    {
     "data": {
      "text/plain": [
       "True"
      ]
     },
     "execution_count": 9,
     "metadata": {},
     "output_type": "execute_result"
    }
   ],
   "source": [
    "# Train Chinese Tokenizer on Chinese Sentence Data\n",
    "\n",
    "spm.SentencePieceTrainer.train('--input=cmn_tokenizer.txt --model_prefix=m_bpe --vocab_size=10000 --character_coverage=0.995 --model_type=bpe')\n",
    "ch = spm.SentencePieceProcessor()\n",
    "ch.load('m_bpe.model')"
   ]
  },
  {
   "cell_type": "markdown",
   "metadata": {},
   "source": [
    "Prepare Japanese and Mandarin Stopwords:"
   ]
  },
  {
   "cell_type": "code",
   "execution_count": 11,
   "metadata": {},
   "outputs": [],
   "source": [
    "cmn_stopwords = open(\"stopwords-zh/stopwords-zh.txt\", \"r\", encoding='utf-8')\n",
    "cmn_stop = [line.rstrip('\\n') for line in cmn_stopwords]\n",
    "jpn_stopwords = open(\"stopwords-ja/stopwords-ja.txt\", \"r\", encoding='utf-8')\n",
    "jpn_stop = [line.rstrip('\\n') for line in jpn_stopwords]"
   ]
  },
  {
   "cell_type": "markdown",
   "metadata": {},
   "source": [
    "Remove punctuation and digits"
   ]
  },
  {
   "cell_type": "code",
   "execution_count": 12,
   "metadata": {},
   "outputs": [],
   "source": [
    "def punct_digit(text):\n",
    "    pattern = '[0-9]'\n",
    "    text = re.sub(r'[^\\w\\s]','',text)\n",
    "    text = re.sub(pattern,'', text)\n",
    "    return text\n",
    "\n",
    "df['text'] = df['text'].apply(punct_digit)"
   ]
  },
  {
   "cell_type": "code",
   "execution_count": 13,
   "metadata": {},
   "outputs": [
    {
     "data": {
      "text/html": [
       "<div>\n",
       "<style scoped>\n",
       "    .dataframe tbody tr th:only-of-type {\n",
       "        vertical-align: middle;\n",
       "    }\n",
       "\n",
       "    .dataframe tbody tr th {\n",
       "        vertical-align: top;\n",
       "    }\n",
       "\n",
       "    .dataframe thead th {\n",
       "        text-align: right;\n",
       "    }\n",
       "</style>\n",
       "<table border=\"1\" class=\"dataframe\">\n",
       "  <thead>\n",
       "    <tr style=\"text-align: right;\">\n",
       "      <th></th>\n",
       "      <th>text</th>\n",
       "      <th>label</th>\n",
       "    </tr>\n",
       "  </thead>\n",
       "  <tbody>\n",
       "    <tr>\n",
       "      <td>1369</td>\n",
       "      <td>你相信她嗎</td>\n",
       "      <td>mandarin</td>\n",
       "    </tr>\n",
       "    <tr>\n",
       "      <td>1979</td>\n",
       "      <td>她在浴室</td>\n",
       "      <td>mandarin</td>\n",
       "    </tr>\n",
       "    <tr>\n",
       "      <td>3198</td>\n",
       "      <td>ワクワクするなあ</td>\n",
       "      <td>japanese</td>\n",
       "    </tr>\n",
       "    <tr>\n",
       "      <td>1497</td>\n",
       "      <td>我不会做任何事</td>\n",
       "      <td>mandarin</td>\n",
       "    </tr>\n",
       "    <tr>\n",
       "      <td>2818</td>\n",
       "      <td>悪酔いしました</td>\n",
       "      <td>japanese</td>\n",
       "    </tr>\n",
       "  </tbody>\n",
       "</table>\n",
       "</div>"
      ],
      "text/plain": [
       "          text     label\n",
       "1369     你相信她嗎  mandarin\n",
       "1979      她在浴室  mandarin\n",
       "3198  ワクワクするなあ  japanese\n",
       "1497   我不会做任何事  mandarin\n",
       "2818   悪酔いしました  japanese"
      ]
     },
     "execution_count": 13,
     "metadata": {},
     "output_type": "execute_result"
    }
   ],
   "source": [
    "df.head()"
   ]
  },
  {
   "cell_type": "markdown",
   "metadata": {},
   "source": [
    "Tokenization Stage:\n",
    "\n",
    "- Tokenize Japanese text\n",
    "- Remove Japanese Stopwords from text\n",
    "- Replace Sentence Piece's Underscore with Spacing\n",
    "\n",
    "Apply Tokenization to only Japanese Text Rows"
   ]
  },
  {
   "cell_type": "code",
   "execution_count": 14,
   "metadata": {},
   "outputs": [],
   "source": [
    "def jpn_clean(text):\n",
    "    text = jp.encode_as_pieces(text)\n",
    "    text = [t for t in text if not t in jpn_stop]\n",
    "    text = ' '.join(text).replace('▁', ' ')\n",
    "    return text\n",
    "\n",
    "df['text'] = np.where(df['label'] == 'japanese', df['text'].apply(jpn_clean), df['text'])"
   ]
  },
  {
   "cell_type": "markdown",
   "metadata": {},
   "source": [
    "Tokenization Stage:\n",
    "\n",
    "- Tokenize Mandarin text\n",
    "- Remove Mandarin Stopwords from text\n",
    "- Replace Sentence Piece's Underscore with Spacing\n",
    "\n",
    "Apply Tokenization to only Mandarin Text Rows"
   ]
  },
  {
   "cell_type": "code",
   "execution_count": 15,
   "metadata": {},
   "outputs": [],
   "source": [
    "def cmn_clean(text):\n",
    "    text = str(text)\n",
    "    text = ch.encode_as_pieces(text)\n",
    "    text = [t for t in text if not t in cmn_stop]\n",
    "    text = ' '.join(text).replace('▁', ' ')\n",
    "    return text\n",
    "\n",
    "df['text'] = np.where(df['label'] == 'mandarin', df['text'].apply(cmn_clean), df['text'])"
   ]
  },
  {
   "cell_type": "code",
   "execution_count": 16,
   "metadata": {},
   "outputs": [
    {
     "data": {
      "text/html": [
       "<div>\n",
       "<style scoped>\n",
       "    .dataframe tbody tr th:only-of-type {\n",
       "        vertical-align: middle;\n",
       "    }\n",
       "\n",
       "    .dataframe tbody tr th {\n",
       "        vertical-align: top;\n",
       "    }\n",
       "\n",
       "    .dataframe thead th {\n",
       "        text-align: right;\n",
       "    }\n",
       "</style>\n",
       "<table border=\"1\" class=\"dataframe\">\n",
       "  <thead>\n",
       "    <tr style=\"text-align: right;\">\n",
       "      <th></th>\n",
       "      <th>text</th>\n",
       "      <th>label</th>\n",
       "    </tr>\n",
       "  </thead>\n",
       "  <tbody>\n",
       "    <tr>\n",
       "      <td>1369</td>\n",
       "      <td>你相信 嗎</td>\n",
       "      <td>mandarin</td>\n",
       "    </tr>\n",
       "    <tr>\n",
       "      <td>1979</td>\n",
       "      <td>她在 浴 室</td>\n",
       "      <td>mandarin</td>\n",
       "    </tr>\n",
       "    <tr>\n",
       "      <td>3198</td>\n",
       "      <td>ワ ク ワ ク なあ</td>\n",
       "      <td>japanese</td>\n",
       "    </tr>\n",
       "    <tr>\n",
       "      <td>1497</td>\n",
       "      <td>我不会 做任何事</td>\n",
       "      <td>mandarin</td>\n",
       "    </tr>\n",
       "    <tr>\n",
       "      <td>2818</td>\n",
       "      <td>悪 酔 しました</td>\n",
       "      <td>japanese</td>\n",
       "    </tr>\n",
       "  </tbody>\n",
       "</table>\n",
       "</div>"
      ],
      "text/plain": [
       "              text     label\n",
       "1369         你相信 嗎  mandarin\n",
       "1979        她在 浴 室  mandarin\n",
       "3198    ワ ク ワ ク なあ  japanese\n",
       "1497      我不会 做任何事  mandarin\n",
       "2818      悪 酔 しました  japanese"
      ]
     },
     "execution_count": 16,
     "metadata": {},
     "output_type": "execute_result"
    }
   ],
   "source": [
    "df.head()"
   ]
  },
  {
   "cell_type": "code",
   "execution_count": 17,
   "metadata": {},
   "outputs": [
    {
     "name": "stdout",
     "output_type": "stream",
     "text": [
      "Shape of data tensor: (3998, 100)\n",
      "Shape of label tensor: (3998, 2)\n"
     ]
    }
   ],
   "source": [
    "maxlen = 100                                                                     \n",
    "max_words = 10000\n",
    "max_features = 10000\n",
    "\n",
    "tokenizer = Tokenizer(num_words=max_words)\n",
    "tokenizer.fit_on_texts(df['text'])\n",
    "sequences = tokenizer.texts_to_sequences(df['text'])\n",
    "\n",
    "data = pad_sequences(sequences, maxlen=maxlen)\n",
    "labels = np.asarray(df['label'])\n",
    "\n",
    "enc = OneHotEncoder()\n",
    "labels = labels.reshape(-1,1)\n",
    "labels = enc.fit_transform(labels)\n",
    "\n",
    "print('Shape of data tensor:', data.shape)\n",
    "print('Shape of label tensor:', labels.shape)\n",
    "\n"
   ]
  },
  {
   "cell_type": "code",
   "execution_count": 20,
   "metadata": {},
   "outputs": [],
   "source": [
    "X_train, X_test, y_train, y_test = train_test_split(data, labels, test_size=0.2, random_state=1)"
   ]
  },
  {
   "cell_type": "code",
   "execution_count": 21,
   "metadata": {},
   "outputs": [
    {
     "name": "stdout",
     "output_type": "stream",
     "text": [
      "WARNING:tensorflow:From C:\\Users\\python-project\\Anaconda3\\envs\\py-model\\lib\\site-packages\\tensorflow\\python\\framework\\op_def_library.py:263: colocate_with (from tensorflow.python.framework.ops) is deprecated and will be removed in a future version.\n",
      "Instructions for updating:\n",
      "Colocations handled automatically by placer.\n",
      "WARNING:tensorflow:From C:\\Users\\python-project\\Anaconda3\\envs\\py-model\\lib\\site-packages\\keras\\backend\\tensorflow_backend.py:3445: calling dropout (from tensorflow.python.ops.nn_ops) with keep_prob is deprecated and will be removed in a future version.\n",
      "Instructions for updating:\n",
      "Please use `rate` instead of `keep_prob`. Rate should be set to `rate = 1 - keep_prob`.\n",
      "WARNING:tensorflow:From C:\\Users\\python-project\\Anaconda3\\envs\\py-model\\lib\\site-packages\\tensorflow\\python\\ops\\math_ops.py:3066: to_int32 (from tensorflow.python.ops.math_ops) is deprecated and will be removed in a future version.\n",
      "Instructions for updating:\n",
      "Use tf.cast instead.\n",
      "Train on 2558 samples, validate on 640 samples\n",
      "Epoch 1/6\n",
      "2558/2558 [==============================] - 13s 5ms/step - loss: 0.6871 - acc: 0.5704 - val_loss: 0.6721 - val_acc: 0.6352\n",
      "Epoch 2/6\n",
      "2558/2558 [==============================] - 10s 4ms/step - loss: 0.5778 - acc: 0.8583 - val_loss: 0.4311 - val_acc: 0.9094\n",
      "Epoch 3/6\n",
      "2558/2558 [==============================] - 10s 4ms/step - loss: 0.2249 - acc: 0.9642 - val_loss: 0.1907 - val_acc: 0.9461\n",
      "Epoch 4/6\n",
      "2558/2558 [==============================] - 9s 4ms/step - loss: 0.0512 - acc: 0.9949 - val_loss: 0.1214 - val_acc: 0.9484\n",
      "Epoch 5/6\n",
      "2558/2558 [==============================] - 11s 4ms/step - loss: 0.0201 - acc: 0.9967 - val_loss: 0.1123 - val_acc: 0.9477\n",
      "Epoch 6/6\n",
      "2558/2558 [==============================] - 10s 4ms/step - loss: 0.0116 - acc: 0.9986 - val_loss: 0.1072 - val_acc: 0.9469\n"
     ]
    }
   ],
   "source": [
    "model = Sequential()\n",
    "model.add(layers.Embedding(max_features, 128))\n",
    "model.add(LSTM(128, dropout=0.2, recurrent_dropout=0.2))\n",
    "model.add(layers.Dense(2, activation='sigmoid'))\n",
    "\n",
    "model.compile(optimizer='adam', loss='binary_crossentropy', metrics=['acc'])\n",
    "history = model.fit(X_train, y_train,\n",
    "                    epochs=6,\n",
    "                    batch_size=100,\n",
    "                    validation_split=0.2)"
   ]
  },
  {
   "cell_type": "code",
   "execution_count": 22,
   "metadata": {},
   "outputs": [
    {
     "data": {
      "image/png": "[encoded data removed]",
      "text/plain": [
       "<Figure size 864x360 with 2 Axes>"
      ]
     },
     "metadata": {},
     "output_type": "display_data"
    }
   ],
   "source": [
    "plt.style.use('ggplot')\n",
    "\n",
    "def plot_history(history):\n",
    "    acc = history.history['acc']\n",
    "    val_acc = history.history['val_acc']\n",
    "    loss = history.history['loss']\n",
    "    val_loss = history.history['val_loss']\n",
    "    x = range(1, len(acc) + 1)\n",
    "\n",
    "    plt.figure(figsize=(12, 5))\n",
    "    plt.subplot(1, 2, 1)\n",
    "    plt.plot(x, acc, 'b', label='Training acc')\n",
    "    plt.plot(x, val_acc, 'r', label='Testing acc')\n",
    "    plt.title('Training and Test accuracy')\n",
    "    plt.legend()\n",
    "    plt.subplot(1, 2, 2)\n",
    "    plt.plot(x, loss, 'b', label='Training loss')\n",
    "    plt.plot(x, val_loss, 'r', label='Testing loss')\n",
    "    plt.title('Training and Testing loss')\n",
    "    plt.legend()\n",
    "\n",
    "plot_history(history)"
   ]
  }
 ],
 "metadata": {
  "kernelspec": {
   "display_name": "Python 3",
   "language": "python",
   "name": "python3"
  },
  "language_info": {
   "codemirror_mode": {
    "name": "ipython",
    "version": 3
   },
   "file_extension": ".py",
   "mimetype": "text/x-python",
   "name": "python",
   "nbconvert_exporter": "python",
   "pygments_lexer": "ipython3",
   "version": "3.7.4"
  }
 },
 "nbformat": 4,
 "nbformat_minor": 4
}
